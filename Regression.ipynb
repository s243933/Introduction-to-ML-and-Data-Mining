{
 "cells": [
  {
   "cell_type": "code",
   "execution_count": 1,
   "metadata": {},
   "outputs": [],
   "source": [
    "import numpy as np\n",
    "import pandas as pd\n",
    "from sklearn.model_selection import train_test_split, KFold, GridSearchCV\n",
    "from sklearn.preprocessing import StandardScaler\n",
    "from sklearn.linear_model import LinearRegression, Ridge\n",
    "from sklearn.metrics import mean_squared_error, mean_absolute_error\n",
    "import matplotlib.pyplot as plt\n",
    "from sklearn.neural_network import MLPRegressor"
   ]
  },
  {
   "cell_type": "markdown",
   "metadata": {},
   "source": [
    "# Regression, part a."
   ]
  },
  {
   "cell_type": "markdown",
   "metadata": {},
   "source": [
    "> In this section, you are to solve a relevant regression problem\n",
    "for your data and statistically evaluate the result. We will begin by examining the\n",
    "most elementary model, namely linear regression."
   ]
  },
  {
   "cell_type": "markdown",
   "metadata": {},
   "source": [
    "### First point\n",
    "> Explain what variable is predicted based on which other variables and what\n",
    "you hope to accomplish by the regression. Mention your feature transformation\n",
    "choices such as one-of-K coding. Since we will use regularization momentarily,\n",
    "apply a feature transformation to your data matrix X such that each column\n",
    "has mean 0 and standard deviation 1."
   ]
  },
  {
   "cell_type": "markdown",
   "metadata": {},
   "source": [
    "From the first report:\n",
    "\n",
    "For the regression task, we aim to use “typea” as the dependent variable as some existing re-\n",
    "search suggests that the Type-A behavior pattern is an important risk factor for CHD (Friedman and\n",
    "Rosenman 1959). However, more recent research found the relationship to be more causal (Petticrew,\n",
    "Lee, and McKee 2012). But regardless, the general public viewed the concept of recognizing Type-A\n",
    "behavior within themselves in a positive light. Due to the differing opinions, we consider it to be a\n",
    "interesting variable to explore. With all the risk factors acting as independent variables, we would aim\n",
    "to build a regression model to output “typea” score, and according to Rossouw et al. (1983), if said\n",
    "score is above 55, the subject is said to be exhibiting Type-A behavior."
   ]
  },
  {
   "cell_type": "code",
   "execution_count": 2,
   "metadata": {},
   "outputs": [
    {
     "data": {
      "text/html": [
       "<div>\n",
       "<style scoped>\n",
       "    .dataframe tbody tr th:only-of-type {\n",
       "        vertical-align: middle;\n",
       "    }\n",
       "\n",
       "    .dataframe tbody tr th {\n",
       "        vertical-align: top;\n",
       "    }\n",
       "\n",
       "    .dataframe thead th {\n",
       "        text-align: right;\n",
       "    }\n",
       "</style>\n",
       "<table border=\"1\" class=\"dataframe\">\n",
       "  <thead>\n",
       "    <tr style=\"text-align: right;\">\n",
       "      <th></th>\n",
       "      <th>sbp</th>\n",
       "      <th>tobacco</th>\n",
       "      <th>ldl</th>\n",
       "      <th>adiposity</th>\n",
       "      <th>famhist</th>\n",
       "      <th>typea</th>\n",
       "      <th>obesity</th>\n",
       "      <th>alcohol</th>\n",
       "      <th>age</th>\n",
       "      <th>chd</th>\n",
       "    </tr>\n",
       "    <tr>\n",
       "      <th>row.names</th>\n",
       "      <th></th>\n",
       "      <th></th>\n",
       "      <th></th>\n",
       "      <th></th>\n",
       "      <th></th>\n",
       "      <th></th>\n",
       "      <th></th>\n",
       "      <th></th>\n",
       "      <th></th>\n",
       "      <th></th>\n",
       "    </tr>\n",
       "  </thead>\n",
       "  <tbody>\n",
       "    <tr>\n",
       "      <th>1</th>\n",
       "      <td>160</td>\n",
       "      <td>12.00</td>\n",
       "      <td>5.73</td>\n",
       "      <td>23.11</td>\n",
       "      <td>Present</td>\n",
       "      <td>49</td>\n",
       "      <td>25.30</td>\n",
       "      <td>97.20</td>\n",
       "      <td>52</td>\n",
       "      <td>1</td>\n",
       "    </tr>\n",
       "    <tr>\n",
       "      <th>2</th>\n",
       "      <td>144</td>\n",
       "      <td>0.01</td>\n",
       "      <td>4.41</td>\n",
       "      <td>28.61</td>\n",
       "      <td>Absent</td>\n",
       "      <td>55</td>\n",
       "      <td>28.87</td>\n",
       "      <td>2.06</td>\n",
       "      <td>63</td>\n",
       "      <td>1</td>\n",
       "    </tr>\n",
       "    <tr>\n",
       "      <th>3</th>\n",
       "      <td>118</td>\n",
       "      <td>0.08</td>\n",
       "      <td>3.48</td>\n",
       "      <td>32.28</td>\n",
       "      <td>Present</td>\n",
       "      <td>52</td>\n",
       "      <td>29.14</td>\n",
       "      <td>3.81</td>\n",
       "      <td>46</td>\n",
       "      <td>0</td>\n",
       "    </tr>\n",
       "    <tr>\n",
       "      <th>4</th>\n",
       "      <td>170</td>\n",
       "      <td>7.50</td>\n",
       "      <td>6.41</td>\n",
       "      <td>38.03</td>\n",
       "      <td>Present</td>\n",
       "      <td>51</td>\n",
       "      <td>31.99</td>\n",
       "      <td>24.26</td>\n",
       "      <td>58</td>\n",
       "      <td>1</td>\n",
       "    </tr>\n",
       "    <tr>\n",
       "      <th>5</th>\n",
       "      <td>134</td>\n",
       "      <td>13.60</td>\n",
       "      <td>3.50</td>\n",
       "      <td>27.78</td>\n",
       "      <td>Present</td>\n",
       "      <td>60</td>\n",
       "      <td>25.99</td>\n",
       "      <td>57.34</td>\n",
       "      <td>49</td>\n",
       "      <td>1</td>\n",
       "    </tr>\n",
       "    <tr>\n",
       "      <th>...</th>\n",
       "      <td>...</td>\n",
       "      <td>...</td>\n",
       "      <td>...</td>\n",
       "      <td>...</td>\n",
       "      <td>...</td>\n",
       "      <td>...</td>\n",
       "      <td>...</td>\n",
       "      <td>...</td>\n",
       "      <td>...</td>\n",
       "      <td>...</td>\n",
       "    </tr>\n",
       "    <tr>\n",
       "      <th>459</th>\n",
       "      <td>214</td>\n",
       "      <td>0.40</td>\n",
       "      <td>5.98</td>\n",
       "      <td>31.72</td>\n",
       "      <td>Absent</td>\n",
       "      <td>64</td>\n",
       "      <td>28.45</td>\n",
       "      <td>0.00</td>\n",
       "      <td>58</td>\n",
       "      <td>0</td>\n",
       "    </tr>\n",
       "    <tr>\n",
       "      <th>460</th>\n",
       "      <td>182</td>\n",
       "      <td>4.20</td>\n",
       "      <td>4.41</td>\n",
       "      <td>32.10</td>\n",
       "      <td>Absent</td>\n",
       "      <td>52</td>\n",
       "      <td>28.61</td>\n",
       "      <td>18.72</td>\n",
       "      <td>52</td>\n",
       "      <td>1</td>\n",
       "    </tr>\n",
       "    <tr>\n",
       "      <th>461</th>\n",
       "      <td>108</td>\n",
       "      <td>3.00</td>\n",
       "      <td>1.59</td>\n",
       "      <td>15.23</td>\n",
       "      <td>Absent</td>\n",
       "      <td>40</td>\n",
       "      <td>20.09</td>\n",
       "      <td>26.64</td>\n",
       "      <td>55</td>\n",
       "      <td>0</td>\n",
       "    </tr>\n",
       "    <tr>\n",
       "      <th>462</th>\n",
       "      <td>118</td>\n",
       "      <td>5.40</td>\n",
       "      <td>11.61</td>\n",
       "      <td>30.79</td>\n",
       "      <td>Absent</td>\n",
       "      <td>64</td>\n",
       "      <td>27.35</td>\n",
       "      <td>23.97</td>\n",
       "      <td>40</td>\n",
       "      <td>0</td>\n",
       "    </tr>\n",
       "    <tr>\n",
       "      <th>463</th>\n",
       "      <td>132</td>\n",
       "      <td>0.00</td>\n",
       "      <td>4.82</td>\n",
       "      <td>33.41</td>\n",
       "      <td>Present</td>\n",
       "      <td>62</td>\n",
       "      <td>14.70</td>\n",
       "      <td>0.00</td>\n",
       "      <td>46</td>\n",
       "      <td>1</td>\n",
       "    </tr>\n",
       "  </tbody>\n",
       "</table>\n",
       "<p>462 rows × 10 columns</p>\n",
       "</div>"
      ],
      "text/plain": [
       "           sbp  tobacco    ldl  adiposity  famhist  typea  obesity  alcohol  \\\n",
       "row.names                                                                     \n",
       "1          160    12.00   5.73      23.11  Present     49    25.30    97.20   \n",
       "2          144     0.01   4.41      28.61   Absent     55    28.87     2.06   \n",
       "3          118     0.08   3.48      32.28  Present     52    29.14     3.81   \n",
       "4          170     7.50   6.41      38.03  Present     51    31.99    24.26   \n",
       "5          134    13.60   3.50      27.78  Present     60    25.99    57.34   \n",
       "...        ...      ...    ...        ...      ...    ...      ...      ...   \n",
       "459        214     0.40   5.98      31.72   Absent     64    28.45     0.00   \n",
       "460        182     4.20   4.41      32.10   Absent     52    28.61    18.72   \n",
       "461        108     3.00   1.59      15.23   Absent     40    20.09    26.64   \n",
       "462        118     5.40  11.61      30.79   Absent     64    27.35    23.97   \n",
       "463        132     0.00   4.82      33.41  Present     62    14.70     0.00   \n",
       "\n",
       "           age  chd  \n",
       "row.names            \n",
       "1           52    1  \n",
       "2           63    1  \n",
       "3           46    0  \n",
       "4           58    1  \n",
       "5           49    1  \n",
       "...        ...  ...  \n",
       "459         58    0  \n",
       "460         52    1  \n",
       "461         55    0  \n",
       "462         40    0  \n",
       "463         46    1  \n",
       "\n",
       "[462 rows x 10 columns]"
      ]
     },
     "execution_count": 2,
     "metadata": {},
     "output_type": "execute_result"
    }
   ],
   "source": [
    "# Load the data\n",
    "pathname = 'Data/SAheart.data.txt'\n",
    "data = pd.read_csv(pathname, sep=\",\", header=0, index_col='row.names')\n",
    "\n",
    "data"
   ]
  },
  {
   "cell_type": "code",
   "execution_count": 3,
   "metadata": {},
   "outputs": [],
   "source": [
    "# Encoding the data\n",
    "famhist_encoding = {'Present': 1, 'Absent': 0}\n",
    "data['famhist'] = data['famhist'].map(famhist_encoding)"
   ]
  },
  {
   "cell_type": "code",
   "execution_count": 4,
   "metadata": {},
   "outputs": [],
   "source": [
    "# Separeate regressors and the output\n",
    "X = np.array(data.drop(data.columns[[5, 9]], axis=1))\n",
    "y = np.array(data['typea'])"
   ]
  },
  {
   "cell_type": "code",
   "execution_count": 5,
   "metadata": {},
   "outputs": [],
   "source": [
    "# Normalize the data with mean 0 and standard deviation 1\n",
    "scaler = StandardScaler()\n",
    "X = scaler.fit_transform(X)"
   ]
  },
  {
   "cell_type": "code",
   "execution_count": 6,
   "metadata": {},
   "outputs": [],
   "source": [
    "X_train, X_test, y_train, y_test = train_test_split(X, y, test_size=0.33, random_state=42)"
   ]
  },
  {
   "cell_type": "markdown",
   "metadata": {},
   "source": [
    "### Second point\n",
    "> Introduce a regularization parameter λ as discussed in chapter 14 of the lecture\n",
    "notes, and estimate the generalization error for different values of λ. Specifically, choose a reasonable range of values of λ (ideally one where the generalization error first drop and then increases), and for each value use K = 10 fold\n",
    "cross-validation (algorithm 5) to estimate the generalization error.\n",
    "Include a figure of the estimated generalization error as a function of λ in the\n",
    "report and briefly discuss the result."
   ]
  },
  {
   "cell_type": "code",
   "execution_count": 7,
   "metadata": {},
   "outputs": [
    {
     "name": "stdout",
     "output_type": "stream",
     "text": [
      "Best lambda (alpha): 109.5\n",
      "Best cross-validated MSE: 96.182\n"
     ]
    }
   ],
   "source": [
    "# Ridge regression and cross-validation\n",
    "model = Ridge()\n",
    "k_folds = KFold(n_splits = 10)\n",
    "\n",
    "lambda_values = np.arange(0, 150, 0.5)\n",
    "grid = {'alpha': lambda_values}\n",
    "\n",
    "search = GridSearchCV(model, grid, scoring='neg_mean_squared_error', cv=k_folds)\n",
    "results = search.fit(X, y)\n",
    "\n",
    "best_lambda = results.best_params_['alpha']\n",
    "print(f'Best lambda (alpha): {best_lambda}')\n",
    "print(f'Best cross-validated MSE: {-results.best_score_:.3f}')"
   ]
  },
  {
   "cell_type": "code",
   "execution_count": 8,
   "metadata": {},
   "outputs": [
    {
     "name": "stdout",
     "output_type": "stream",
     "text": [
      "Training MSE: 92.569\n",
      "Test MSE: 96.686\n"
     ]
    }
   ],
   "source": [
    "model.set_params(alpha= best_lambda)\n",
    "model.fit(X_train, y_train)\n",
    "\n",
    "y_train_pred = model.predict(X_train)\n",
    "y_pred = model.predict(X_test)\n",
    "\n",
    "mse_train = mean_squared_error(y_train, y_train_pred)\n",
    "mse_test = mean_squared_error(y_test, y_pred)\n",
    "\n",
    "print(f\"Training MSE: {mse_train:.3f}\")\n",
    "print(f\"Test MSE: {mse_test:.3f}\")"
   ]
  },
  {
   "cell_type": "code",
   "execution_count": 9,
   "metadata": {},
   "outputs": [
    {
     "data": {
      "image/png": "[encoded data removed]",
      "text/plain": [
       "<Figure size 800x600 with 1 Axes>"
      ]
     },
     "metadata": {},
     "output_type": "display_data"
    }
   ],
   "source": [
    "mean_test_scores = -results.cv_results_['mean_test_score']\n",
    "\n",
    "plt.figure(figsize=(8, 6))\n",
    "plt.plot(lambda_values, mean_test_scores)\n",
    "plt.xlabel('Lambda')\n",
    "plt.ylabel('MSE')\n",
    "plt.title('Generalization Error as a Function of Lambda')\n",
    "plt.grid(True)\n",
    "plt.show()\n"
   ]
  },
  {
   "cell_type": "markdown",
   "metadata": {},
   "source": [
    "### Third point\n",
    "> Explain how the output, y, of the linear model with the lowest generalization\n",
    "error (as determined in the previous question) is computed for a given input\n",
    "x. What is the effect of an individual attribute in x on the output, y, of the\n",
    "linear model? Does the effect of individual attributes make sense based on your\n",
    "understanding of the problem?"
   ]
  },
  {
   "cell_type": "markdown",
   "metadata": {},
   "source": [
    "The output is computed by calculating the weighted sum of the input features with regularization. Each attribute x_i contributes to the output y in proportion to its weight w_i. This is done in a way that a positive weight will increase y as x_i increases, and a negative weight would do the opposite. The magnitue of w_i would then reflect on the sensitivity of these changes, or how much changes in x_i imapct y."
   ]
  },
  {
   "cell_type": "markdown",
   "metadata": {},
   "source": [
    "# Regression, part b"
   ]
  },
  {
   "cell_type": "markdown",
   "metadata": {},
   "source": [
    "> In this section, we will compare three models: the regularized\n",
    "linear regression model from the previous section, an artificial neural network (ANN)\n",
    "and a baseline. We are interested in two questions: Is one model better than the\n",
    "other? Is either model better than a trivial baseline?. We will attempt to answer\n",
    "these questions with two-level cross-validation."
   ]
  },
  {
   "cell_type": "markdown",
   "metadata": {},
   "source": [
    "### First point\n",
    "Implement two-level cross-validation (see algorithm 6 of the lecture notes). We\n",
    "will use 2-level cross-validation to compare the models with $K_1 = K_2 = 10$ folds\n",
    ". As a baseline model, we will apply a linear regression model with no\n",
    "features, i.e. it computes the mean of y on the training data, and use this value\n",
    "to predict y on the test data.\n",
    "Make sure you can fit an ANN model to the data. As complexity-controlling\n",
    "parameter for the ANN, we will use the number of hidden units h. Based on\n",
    "a few test-runs, select a reasonable range of values for h (which should include\n",
    "h = 1), and describe the range of values you will use for h and λ."
   ]
  },
  {
   "cell_type": "code",
   "execution_count": 10,
   "metadata": {},
   "outputs": [
    {
     "name": "stdout",
     "output_type": "stream",
     "text": [
      "MSE baseline: 112.91489361702128\n",
      "> mse_regression=119.936, est=-93.327, cfg={'alpha': 101.0}\n",
      "> mse_ann=122.047, est=-103.495, cfg={'hidden_layer_sizes': (11,)}\n",
      "MSE baseline: 136.08510638297872\n",
      "> mse_regression=137.737, est=-90.301, cfg={'alpha': 127.5}\n",
      "> mse_ann=148.928, est=-103.581, cfg={'hidden_layer_sizes': (11,)}\n",
      "MSE baseline: 99.69565217391305\n",
      "> mse_regression=93.081, est=-95.849, cfg={'alpha': 149.5}\n",
      "> mse_ann=99.073, est=-111.189, cfg={'hidden_layer_sizes': (11,)}\n",
      "MSE baseline: 80.8695652173913\n",
      "> mse_regression=85.830, est=-96.552, cfg={'alpha': 62.5}\n",
      "> mse_ann=99.998, est=-114.560, cfg={'hidden_layer_sizes': (21,)}\n",
      "MSE baseline: 85.30434782608695\n",
      "> mse_regression=75.428, est=-99.214, cfg={'alpha': 149.5}\n",
      "> mse_ann=86.374, est=-115.104, cfg={'hidden_layer_sizes': (11,)}\n",
      "MSE baseline: 94.34782608695652\n",
      "> mse_regression=88.569, est=-97.144, cfg={'alpha': 149.5}\n",
      "> mse_ann=96.909, est=-116.747, cfg={'hidden_layer_sizes': (11,)}\n",
      "MSE baseline: 104.19565217391305\n",
      "> mse_regression=102.975, est=-95.338, cfg={'alpha': 149.5}\n",
      "> mse_ann=125.176, est=-112.363, cfg={'hidden_layer_sizes': (11,)}\n",
      "MSE baseline: 95.69565217391305\n",
      "> mse_regression=93.694, est=-96.326, cfg={'alpha': 114.5}\n",
      "> mse_ann=106.503, est=-105.952, cfg={'hidden_layer_sizes': (11,)}\n",
      "MSE baseline: 88.30434782608695\n",
      "> mse_regression=89.897, est=-95.784, cfg={'alpha': 92.5}\n",
      "> mse_ann=85.252, est=-112.656, cfg={'hidden_layer_sizes': (11,)}\n",
      "MSE baseline: 76.8695652173913\n",
      "> mse_regression=76.731, est=-98.082, cfg={'alpha': 149.5}\n",
      "> mse_ann=78.107, est=-113.209, cfg={'hidden_layer_sizes': (11,)}\n",
      "MSE Baseline: 97.428 (16.507)\n",
      "MSE Regression: 96.388 (18.347)\n",
      "MSE ANN: 104.837 (20.531)\n"
     ]
    }
   ],
   "source": [
    "# Two-level cross-validation\n",
    "\n",
    "import warnings\n",
    "warnings.filterwarnings(\"ignore\")\n",
    "\n",
    "K1, K2 = 10, 10\n",
    "\n",
    "# Outer CV\n",
    "outerCV = KFold(n_splits=K1, shuffle=True, random_state=1)\n",
    "\n",
    "scores_baseline = []\n",
    "scores_regression = []\n",
    "scores_ann = []\n",
    "\n",
    "cv_table = []\n",
    "\n",
    "for i, (train_idx, test_idx) in enumerate(outerCV.split(X), start=1):\n",
    "    # Split the data\n",
    "    X_train, X_test = X[train_idx, :], X[test_idx, :]\n",
    "    y_train, y_test = y[train_idx], y[test_idx]\n",
    "\n",
    "    # Standardize values\n",
    "    scaler = StandardScaler().fit(X_train)\n",
    "    X_train = scaler.transform(X_train)\n",
    "    X_test = scaler.transform(X_test)\n",
    "    \n",
    "    # Baseline Model\n",
    "    y_pred_baseline = np.full_like(y_test, y_train.mean())\n",
    "    mse_baseline = mean_squared_error(y_test, y_pred_baseline)\n",
    "    scores_baseline.append(mse_baseline)\n",
    "\n",
    "    print(f'MSE baseline: {mse_baseline}')\n",
    "\n",
    "    # Inner CV\n",
    "    innerCV = KFold(n_splits=K2, shuffle=True, random_state=1)\n",
    "\n",
    "    # Linear Regression\n",
    "    regression = Ridge()\n",
    "\n",
    "    lambda_values = np.arange(0, 150, 0.5)\n",
    "    grid_regression = {'alpha': lambda_values}\n",
    "\n",
    "    search_regression = GridSearchCV(regression, grid_regression, scoring='neg_mean_squared_error', cv=innerCV)\n",
    "    result_regression = search_regression.fit(X_train, y_train)\n",
    "\n",
    "    best_regression = search_regression.best_estimator_\n",
    "    y_pred_regression = best_regression.predict(X_test)\n",
    "    mse_regression = mean_squared_error(y_test, y_pred_regression)\n",
    "    scores_regression.append(mse_regression)\n",
    "\n",
    "    print('> mse_regression=%.3f, est=%.3f, cfg=%s' % (mse_regression, result_regression.best_score_, result_regression.best_params_))\n",
    "\n",
    "    # Feed-forward Neural Network Model\n",
    "    ann = MLPRegressor(max_iter=10000)\n",
    "\n",
    "    h_values = [(h,) for h in np.arange(1, 50, 10)] \n",
    "    grid_ann = {'hidden_layer_sizes': h_values}\n",
    "\n",
    "    search_ann = GridSearchCV(ann, grid_ann, scoring='neg_mean_squared_error', cv=innerCV)\n",
    "    result_ann = search_ann.fit(X_train, y_train)\n",
    "\n",
    "    best_ann = search_ann.best_estimator_\n",
    "    y_pred_ann = best_ann.predict(X_test)\n",
    "    mse_ann = mean_squared_error(y_test, y_pred_ann)\n",
    "    scores_ann.append(mse_ann)\n",
    "\n",
    "    print('> mse_ann=%.3f, est=%.3f, cfg=%s' % (mse_ann, result_ann.best_score_, result_ann.best_params_))\n",
    "\n",
    "    cv_table.append({\n",
    "        'Outer Fold': i,\n",
    "        'h*_i (ANN)': result_ann.best_params_['hidden_layer_sizes'][0],\n",
    "        'E_i^test (ANN)': mse_ann,\n",
    "        'λ*_i (Ridge)': result_regression.best_params_['alpha'],\n",
    "        'E_i^test (Ridge)': mse_regression,\n",
    "        'E_i^test (Baseline)': mse_baseline\n",
    "    })\n",
    "\n",
    "print('MSE Baseline: %.3f (%.3f)' % (np.mean(scores_baseline), np.std(scores_baseline)))\n",
    "print('MSE Regression: %.3f (%.3f)' % (np.mean(scores_regression), np.std(scores_regression)))\n",
    "print('MSE ANN: %.3f (%.3f)' % (np.mean(scores_ann), np.std(scores_ann)))\n",
    "\n"
   ]
  },
  {
   "cell_type": "markdown",
   "metadata": {},
   "source": [
    "### Second point\n",
    "Produce a table akin to Table 1 using two-level cross-validation (algorithm 6\n",
    "in the lecture notes). The table shows, for each of the K1 = 10 folds i, the\n",
    "optimal value of the number of hidden units and regularization strength ($h^*_i$ and $λ^*_i$ respectively) as found after each inner loop, as well as the estimated generalization errors $E^{test}_i$ by evaluating on $D^{test}_i$. It also includes the baseline\n",
    "test error, also evaluated on $D^{test}_i$. Importantly, you must re-use the train/test\n",
    "splits $D^{par}_i$, $D^{test}_i$ for all three methods to allow statistical comparison (see next\n",
    "section).\n",
    "Note the error measure we use is the squared loss per observation, i.e. we divide\n",
    "by the number of observation in the test dataset:\n",
    "\n",
    "$\n",
    "\\begin{equation}\n",
    "E = \\frac{1}{N^{test}} \\sum^{N^{test}}_{i=1} (y_i − \\hat y_i)^2\n",
    "\\end{equation}\n",
    "$\n",
    "\n",
    "Include a table similar to Table 1 in your report and briefly discuss what it tells\n",
    "you at a glance. Do you find the same value of $λ^*$ as in the previous section?"
   ]
  },
  {
   "cell_type": "code",
   "execution_count": 11,
   "metadata": {},
   "outputs": [
    {
     "name": "stdout",
     "output_type": "stream",
     "text": [
      "   Outer Fold  h*_i (ANN)  E_i^test (ANN)  λ*_i (Ridge)  E_i^test (Ridge)  \\\n",
      "0           1          11      122.046799         101.0        119.936092   \n",
      "1           2          11      148.927700         127.5        137.736873   \n",
      "2           3          11       99.072858         149.5         93.081149   \n",
      "3           4          21       99.997559          62.5         85.829731   \n",
      "4           5          11       86.374120         149.5         75.428347   \n",
      "5           6          11       96.908634         149.5         88.568940   \n",
      "6           7          11      125.175507         149.5        102.975241   \n",
      "7           8          11      106.503040         114.5         93.694216   \n",
      "8           9          11       85.252417          92.5         89.896991   \n",
      "9          10          11       78.106596         149.5         76.730715   \n",
      "\n",
      "   E_i^test (Baseline)  \n",
      "0           112.914894  \n",
      "1           136.085106  \n",
      "2            99.695652  \n",
      "3            80.869565  \n",
      "4            85.304348  \n",
      "5            94.347826  \n",
      "6           104.195652  \n",
      "7            95.695652  \n",
      "8            88.304348  \n",
      "9            76.869565  \n"
     ]
    }
   ],
   "source": [
    "cv_table = pd.DataFrame(cv_table)\n",
    "print(cv_table)"
   ]
  },
  {
   "cell_type": "code",
   "execution_count": 43,
   "metadata": {},
   "outputs": [
    {
     "name": "stdout",
     "output_type": "stream",
     "text": [
      "╭──────────────┬──────────────┬──────────────────┬────────────────┬────────────────────┬───────────────────────╮\n",
      "│   Outer Fold │   h*_i (ANN) │   E_i^test (ANN) │   λ*_i (Ridge) │   E_i^test (Ridge) │   E_i^test (Baseline) │\n",
      "├──────────────┼──────────────┼──────────────────┼────────────────┼────────────────────┼───────────────────────┤\n",
      "│            1 │           11 │         122.047  │          101   │           119.936  │              112.915  │\n",
      "├──────────────┼──────────────┼──────────────────┼────────────────┼────────────────────┼───────────────────────┤\n",
      "│            2 │           11 │         148.928  │          127.5 │           137.737  │              136.085  │\n",
      "├──────────────┼──────────────┼──────────────────┼────────────────┼────────────────────┼───────────────────────┤\n",
      "│            3 │           11 │          99.0729 │          149.5 │            93.0811 │               99.6957 │\n",
      "├──────────────┼──────────────┼──────────────────┼────────────────┼────────────────────┼───────────────────────┤\n",
      "│            4 │           21 │          99.9976 │           62.5 │            85.8297 │               80.8696 │\n",
      "├──────────────┼──────────────┼──────────────────┼────────────────┼────────────────────┼───────────────────────┤\n",
      "│            5 │           11 │          86.3741 │          149.5 │            75.4283 │               85.3043 │\n",
      "├──────────────┼──────────────┼──────────────────┼────────────────┼────────────────────┼───────────────────────┤\n",
      "│            6 │           11 │          96.9086 │          149.5 │            88.5689 │               94.3478 │\n",
      "├──────────────┼──────────────┼──────────────────┼────────────────┼────────────────────┼───────────────────────┤\n",
      "│            7 │           11 │         125.176  │          149.5 │           102.975  │              104.196  │\n",
      "├──────────────┼──────────────┼──────────────────┼────────────────┼────────────────────┼───────────────────────┤\n",
      "│            8 │           11 │         106.503  │          114.5 │            93.6942 │               95.6957 │\n",
      "├──────────────┼──────────────┼──────────────────┼────────────────┼────────────────────┼───────────────────────┤\n",
      "│            9 │           11 │          85.2524 │           92.5 │            89.897  │               88.3043 │\n",
      "├──────────────┼──────────────┼──────────────────┼────────────────┼────────────────────┼───────────────────────┤\n",
      "│           10 │           11 │          78.1066 │          149.5 │            76.7307 │               76.8696 │\n",
      "╰──────────────┴──────────────┴──────────────────┴────────────────┴────────────────────┴───────────────────────╯\n"
     ]
    }
   ],
   "source": [
    "from tabulate import tabulate\n",
    "print(tabulate(cv_table, headers=\"keys\" ,tablefmt='rounded_grid', showindex=False))"
   ]
  },
  {
   "cell_type": "code",
   "execution_count": 44,
   "metadata": {},
   "outputs": [
    {
     "name": "stdout",
     "output_type": "stream",
     "text": [
      "\\begin{tabular}{rrrrrr}\n",
      "\\hline\n",
      "   Outer Fold &   h*_i (ANN) &   E_i^test (ANN) &   λ*_i (Ridge) &   E_i^test (Ridge) &   E_i^test (Baseline) \\\\\n",
      "\\hline\n",
      "            1 &           11 &         122.047  &          101   &           119.936  &              112.915  \\\\\n",
      "            2 &           11 &         148.928  &          127.5 &           137.737  &              136.085  \\\\\n",
      "            3 &           11 &          99.0729 &          149.5 &            93.0811 &               99.6957 \\\\\n",
      "            4 &           21 &          99.9976 &           62.5 &            85.8297 &               80.8696 \\\\\n",
      "            5 &           11 &          86.3741 &          149.5 &            75.4283 &               85.3043 \\\\\n",
      "            6 &           11 &          96.9086 &          149.5 &            88.5689 &               94.3478 \\\\\n",
      "            7 &           11 &         125.176  &          149.5 &           102.975  &              104.196  \\\\\n",
      "            8 &           11 &         106.503  &          114.5 &            93.6942 &               95.6957 \\\\\n",
      "            9 &           11 &          85.2524 &           92.5 &            89.897  &               88.3043 \\\\\n",
      "           10 &           11 &          78.1066 &          149.5 &            76.7307 &               76.8696 \\\\\n",
      "\\hline\n",
      "\\end{tabular}\n"
     ]
    }
   ],
   "source": [
    "print(tabulate(cv_table, headers=\"keys\" ,tablefmt='latex_raw', showindex=False))"
   ]
  },
  {
   "cell_type": "markdown",
   "metadata": {},
   "source": [
    "### Third point\n",
    "Statistically evaluate if there is a significant performance difference between the\n",
    "fitted ANN, linear regression model and baseline using the methods described\n",
    "in chapter 11. These comparisons will be made pairwise (ANN vs. linear\n",
    "regression; ANN vs. baseline; linear regression vs. baseline). We will allow\n",
    "some freedom in what test to choose. Therefore, choose either:\n",
    "setup I (section 11.3): Use the paired t-test described in Box 11.3.4\n",
    "setup II (section 11.4): Use the method described in Box 11.4.1)\n",
    "Include p-values and confidence intervals for the three pairwise tests in your\n",
    "report and conclude on the results: Is one model better than the other? Are\n",
    "the two models better than the baseline? Are some of the models identical?\n",
    "What recommendations would you make based on what you’ve learned?"
   ]
  },
  {
   "cell_type": "markdown",
   "metadata": {},
   "source": []
  }
 ],
 "metadata": {
  "kernelspec": {
   "display_name": "IntroMLDM",
   "language": "python",
   "name": "python3"
  },
  "language_info": {
   "codemirror_mode": {
    "name": "ipython",
    "version": 3
   },
   "file_extension": ".py",
   "mimetype": "text/x-python",
   "name": "python",
   "nbconvert_exporter": "python",
   "pygments_lexer": "ipython3",
   "version": "3.11.9"
  }
 },
 "nbformat": 4,
 "nbformat_minor": 2
}
